{
 "cells": [
  {
   "cell_type": "markdown",
   "id": "c5613d3a-5401-41d2-be52-5c4673ba81c7",
   "metadata": {},
   "source": [
    "# Data Science Tools and Ecosystem\n"
   ]
  },
  {
   "cell_type": "markdown",
   "id": "b1e78a28-e2c7-4400-b4d0-b12c573aebda",
   "metadata": {},
   "source": [
    "In this notebook, Data Science Tools and Ecosystem are summarized.\n"
   ]
  },
  {
   "cell_type": "markdown",
   "id": "fa2a2291-784d-4a61-99d4-674cd00c0d09",
   "metadata": {},
   "source": [
    "Some of the popular languages that Data Scientists use are:\n",
    "\n",
    "1. Python  \n",
    "2. R  \n",
    "3. SQL  \n",
    "4. Julia  \n"
   ]
  },
  {
   "cell_type": "markdown",
   "id": "42c60472-f9a2-4bfe-a108-6c0fb2ab42a1",
   "metadata": {},
   "source": [
    "Some of the commonly used libraries used by Data Scientists include:\n",
    "\n",
    "1. Pandas  \n",
    "2. NumPy  \n",
    "3. Matplotlib  \n",
    "4. Scikit-learn  \n"
   ]
  },
  {
   "cell_type": "markdown",
   "id": "6589cd2a-ec0c-4aa4-9374-e13eb6f74e23",
   "metadata": {},
   "source": [
    "| Data Science Tools |\n",
    "|--------------------|\n",
    "| Jupyter Notebook   |\n",
    "| RStudio            |\n",
    "| Apache Zeppelin    |\n"
   ]
  },
  {
   "cell_type": "markdown",
   "id": "124ff907-9b33-49ee-83c4-2b8c7b632dd5",
   "metadata": {},
   "source": [
    "### Below are a few examples of evaluating arithmetic expressions in Python.\n"
   ]
  },
  {
   "cell_type": "code",
   "execution_count": 8,
   "id": "242c80f1-85ad-4679-95c2-19afab0d9874",
   "metadata": {},
   "outputs": [
    {
     "data": {
      "text/plain": [
       "17"
      ]
     },
     "execution_count": 8,
     "metadata": {},
     "output_type": "execute_result"
    }
   ],
   "source": [
    "# This is a simple arithmetic expression to multiply then add integers\n",
    "(3 * 4) + 5\n"
   ]
  },
  {
   "cell_type": "code",
   "execution_count": 9,
   "id": "56e38e97-9ebb-4c4d-979e-422542c2aa25",
   "metadata": {},
   "outputs": [
    {
     "data": {
      "text/plain": [
       "3.3333333333333335"
      ]
     },
     "execution_count": 9,
     "metadata": {},
     "output_type": "execute_result"
    }
   ],
   "source": [
    "# This will convert 200 minutes to hours by dividing by 60\n",
    "200 / 60\n"
   ]
  },
  {
   "cell_type": "markdown",
   "id": "f0263752-f992-4b97-a4f8-d36806c20126",
   "metadata": {},
   "source": [
    "**Objectives:**\n",
    "\n",
    "- List popular languages for Data Science  \n",
    "- Identify commonly used libraries in Data Science  \n",
    "- Demonstrate simple arithmetic operations in Python  \n",
    "- Present open-source development tools used in Data Science  \n"
   ]
  },
  {
   "cell_type": "markdown",
   "id": "11eab8f7-3d30-4b79-8d42-50cd435c560c",
   "metadata": {},
   "source": [
    "## Author\n",
    "MohamedElghali Mohamed\n"
   ]
  },
  {
   "cell_type": "code",
   "execution_count": null,
   "id": "41ccc22a-8f13-43d8-b919-225836a4473c",
   "metadata": {},
   "outputs": [],
   "source": []
  }
 ],
 "metadata": {
  "kernelspec": {
   "display_name": "Python 3 (ipykernel)",
   "language": "python",
   "name": "python3"
  },
  "language_info": {
   "codemirror_mode": {
    "name": "ipython",
    "version": 3
   },
   "file_extension": ".py",
   "mimetype": "text/x-python",
   "name": "python",
   "nbconvert_exporter": "python",
   "pygments_lexer": "ipython3",
   "version": "3.13.1"
  }
 },
 "nbformat": 4,
 "nbformat_minor": 5
}
